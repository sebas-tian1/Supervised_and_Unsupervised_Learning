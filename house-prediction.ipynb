{
 "cells": [
  {
   "cell_type": "code",
   "execution_count": 1,
   "id": "99790c0a",
   "metadata": {
    "_cell_guid": "b1076dfc-b9ad-4769-8c92-a6c4dae69d19",
    "_uuid": "8f2839f25d086af736a60e9eeb907d3b93b6e0e5",
    "execution": {
     "iopub.execute_input": "2025-08-11T16:39:39.776393Z",
     "iopub.status.busy": "2025-08-11T16:39:39.775512Z",
     "iopub.status.idle": "2025-08-11T16:39:41.639372Z",
     "shell.execute_reply": "2025-08-11T16:39:41.637989Z"
    },
    "papermill": {
     "duration": 1.874493,
     "end_time": "2025-08-11T16:39:41.641010",
     "exception": false,
     "start_time": "2025-08-11T16:39:39.766517",
     "status": "completed"
    },
    "tags": []
   },
   "outputs": [
    {
     "name": "stdout",
     "output_type": "stream",
     "text": [
      "['house-prices-advanced-regression-techniques']\n"
     ]
    }
   ],
   "source": [
    "# This Python 3 environment comes with many helpful analytics libraries installed\n",
    "# It is defined by the kaggle/python Docker image: https://github.com/kaggle/docker-python\n",
    "# For example, here's several helpful packages to load\n",
    "\n",
    "import numpy as np # linear algebra\n",
    "import pandas as pd # data processing, CSV file I/O (e.g. pd.read_csv)\n",
    "\n",
    "# Input data files are available in the read-only \"../input/\" directory\n",
    "# For example, running this (by clicking run or pressing Shift+Enter) will list all files under the input directory\n",
    "\n",
    "import os\n",
    "print(os.listdir('../input'))\n",
    "\n",
    "# You can write up to 20GB to the current directory (/kaggle/working/) that gets preserved as output when you create a version using \"Save & Run All\" \n",
    "# You can also write temporary files to /kaggle/temp/, but they won't be saved outside of the current session"
   ]
  },
  {
   "cell_type": "code",
   "execution_count": 2,
   "id": "e7980a39",
   "metadata": {
    "execution": {
     "iopub.execute_input": "2025-08-11T16:39:41.656418Z",
     "iopub.status.busy": "2025-08-11T16:39:41.655979Z",
     "iopub.status.idle": "2025-08-11T16:39:44.982329Z",
     "shell.execute_reply": "2025-08-11T16:39:44.981360Z"
    },
    "papermill": {
     "duration": 3.336118,
     "end_time": "2025-08-11T16:39:44.984432",
     "exception": false,
     "start_time": "2025-08-11T16:39:41.648314",
     "status": "completed"
    },
    "tags": []
   },
   "outputs": [],
   "source": [
    "from scipy.stats import skew\n",
    "from scipy.special import boxcox1p\n",
    "from scipy.stats import boxcox_normmax\n",
    "import matplotlib.pyplot as plt\n",
    "import seaborn as sns\n",
    "import math\n",
    "from sklearn.linear_model import RidgeCV, LassoCV, ElasticNetCV\n",
    "from xgboost import XGBRegressor\n",
    "from sklearn.pipeline import make_pipeline\n",
    "from sklearn.metrics import r2_score, mean_squared_error, mean_absolute_error\n",
    "from sklearn.model_selection import KFold, cross_val_score\n",
    "from sklearn.tree import DecisionTreeRegressor\n",
    "from sklearn.ensemble import RandomForestRegressor\n",
    "from sklearn.preprocessing import StandardScaler\n",
    "from sklearn.ensemble import GradientBoostingRegressor\n",
    "from sklearn.decomposition import PCA\n",
    "import scipy.stats as stats\n",
    "from xgboost import XGBRegressor\n",
    "from mlxtend.regressor import StackingCVRegressor\n",
    "from sklearn.cluster import KMeans\n",
    "from datetime import datetime\n",
    "import warnings\n",
    "warnings.filterwarnings('ignore')"
   ]
  },
  {
   "cell_type": "code",
   "execution_count": 3,
   "id": "91ea6014",
   "metadata": {
    "execution": {
     "iopub.execute_input": "2025-08-11T16:39:45.000201Z",
     "iopub.status.busy": "2025-08-11T16:39:44.999718Z",
     "iopub.status.idle": "2025-08-11T16:39:45.143867Z",
     "shell.execute_reply": "2025-08-11T16:39:45.142854Z"
    },
    "papermill": {
     "duration": 0.1537,
     "end_time": "2025-08-11T16:39:45.145303",
     "exception": false,
     "start_time": "2025-08-11T16:39:44.991603",
     "status": "completed"
    },
    "tags": []
   },
   "outputs": [
    {
     "name": "stdout",
     "output_type": "stream",
     "text": [
      "Data is set!\n"
     ]
    }
   ],
   "source": [
    "train = pd.read_csv('../input/house-prices-advanced-regression-techniques/train.csv')\n",
    "test = pd.read_csv('../input/house-prices-advanced-regression-techniques/test.csv')\n",
    "print (\"Data is set!\")"
   ]
  },
  {
   "cell_type": "code",
   "execution_count": 4,
   "id": "7bb5ced4",
   "metadata": {
    "execution": {
     "iopub.execute_input": "2025-08-11T16:39:45.160972Z",
     "iopub.status.busy": "2025-08-11T16:39:45.160636Z",
     "iopub.status.idle": "2025-08-11T16:39:45.198600Z",
     "shell.execute_reply": "2025-08-11T16:39:45.197399Z"
    },
    "papermill": {
     "duration": 0.047478,
     "end_time": "2025-08-11T16:39:45.200358",
     "exception": false,
     "start_time": "2025-08-11T16:39:45.152880",
     "status": "completed"
    },
    "tags": []
   },
   "outputs": [
    {
     "data": {
      "text/html": [
       "<div>\n",
       "<style scoped>\n",
       "    .dataframe tbody tr th:only-of-type {\n",
       "        vertical-align: middle;\n",
       "    }\n",
       "\n",
       "    .dataframe tbody tr th {\n",
       "        vertical-align: top;\n",
       "    }\n",
       "\n",
       "    .dataframe thead th {\n",
       "        text-align: right;\n",
       "    }\n",
       "</style>\n",
       "<table border=\"1\" class=\"dataframe\">\n",
       "  <thead>\n",
       "    <tr style=\"text-align: right;\">\n",
       "      <th></th>\n",
       "      <th>Id</th>\n",
       "      <th>MSSubClass</th>\n",
       "      <th>MSZoning</th>\n",
       "      <th>LotFrontage</th>\n",
       "      <th>LotArea</th>\n",
       "      <th>Street</th>\n",
       "      <th>Alley</th>\n",
       "      <th>LotShape</th>\n",
       "      <th>LandContour</th>\n",
       "      <th>Utilities</th>\n",
       "      <th>...</th>\n",
       "      <th>PoolArea</th>\n",
       "      <th>PoolQC</th>\n",
       "      <th>Fence</th>\n",
       "      <th>MiscFeature</th>\n",
       "      <th>MiscVal</th>\n",
       "      <th>MoSold</th>\n",
       "      <th>YrSold</th>\n",
       "      <th>SaleType</th>\n",
       "      <th>SaleCondition</th>\n",
       "      <th>SalePrice</th>\n",
       "    </tr>\n",
       "  </thead>\n",
       "  <tbody>\n",
       "    <tr>\n",
       "      <th>0</th>\n",
       "      <td>1</td>\n",
       "      <td>60</td>\n",
       "      <td>RL</td>\n",
       "      <td>65.0</td>\n",
       "      <td>8450</td>\n",
       "      <td>Pave</td>\n",
       "      <td>NaN</td>\n",
       "      <td>Reg</td>\n",
       "      <td>Lvl</td>\n",
       "      <td>AllPub</td>\n",
       "      <td>...</td>\n",
       "      <td>0</td>\n",
       "      <td>NaN</td>\n",
       "      <td>NaN</td>\n",
       "      <td>NaN</td>\n",
       "      <td>0</td>\n",
       "      <td>2</td>\n",
       "      <td>2008</td>\n",
       "      <td>WD</td>\n",
       "      <td>Normal</td>\n",
       "      <td>208500</td>\n",
       "    </tr>\n",
       "    <tr>\n",
       "      <th>1</th>\n",
       "      <td>2</td>\n",
       "      <td>20</td>\n",
       "      <td>RL</td>\n",
       "      <td>80.0</td>\n",
       "      <td>9600</td>\n",
       "      <td>Pave</td>\n",
       "      <td>NaN</td>\n",
       "      <td>Reg</td>\n",
       "      <td>Lvl</td>\n",
       "      <td>AllPub</td>\n",
       "      <td>...</td>\n",
       "      <td>0</td>\n",
       "      <td>NaN</td>\n",
       "      <td>NaN</td>\n",
       "      <td>NaN</td>\n",
       "      <td>0</td>\n",
       "      <td>5</td>\n",
       "      <td>2007</td>\n",
       "      <td>WD</td>\n",
       "      <td>Normal</td>\n",
       "      <td>181500</td>\n",
       "    </tr>\n",
       "    <tr>\n",
       "      <th>2</th>\n",
       "      <td>3</td>\n",
       "      <td>60</td>\n",
       "      <td>RL</td>\n",
       "      <td>68.0</td>\n",
       "      <td>11250</td>\n",
       "      <td>Pave</td>\n",
       "      <td>NaN</td>\n",
       "      <td>IR1</td>\n",
       "      <td>Lvl</td>\n",
       "      <td>AllPub</td>\n",
       "      <td>...</td>\n",
       "      <td>0</td>\n",
       "      <td>NaN</td>\n",
       "      <td>NaN</td>\n",
       "      <td>NaN</td>\n",
       "      <td>0</td>\n",
       "      <td>9</td>\n",
       "      <td>2008</td>\n",
       "      <td>WD</td>\n",
       "      <td>Normal</td>\n",
       "      <td>223500</td>\n",
       "    </tr>\n",
       "    <tr>\n",
       "      <th>3</th>\n",
       "      <td>4</td>\n",
       "      <td>70</td>\n",
       "      <td>RL</td>\n",
       "      <td>60.0</td>\n",
       "      <td>9550</td>\n",
       "      <td>Pave</td>\n",
       "      <td>NaN</td>\n",
       "      <td>IR1</td>\n",
       "      <td>Lvl</td>\n",
       "      <td>AllPub</td>\n",
       "      <td>...</td>\n",
       "      <td>0</td>\n",
       "      <td>NaN</td>\n",
       "      <td>NaN</td>\n",
       "      <td>NaN</td>\n",
       "      <td>0</td>\n",
       "      <td>2</td>\n",
       "      <td>2006</td>\n",
       "      <td>WD</td>\n",
       "      <td>Abnorml</td>\n",
       "      <td>140000</td>\n",
       "    </tr>\n",
       "    <tr>\n",
       "      <th>4</th>\n",
       "      <td>5</td>\n",
       "      <td>60</td>\n",
       "      <td>RL</td>\n",
       "      <td>84.0</td>\n",
       "      <td>14260</td>\n",
       "      <td>Pave</td>\n",
       "      <td>NaN</td>\n",
       "      <td>IR1</td>\n",
       "      <td>Lvl</td>\n",
       "      <td>AllPub</td>\n",
       "      <td>...</td>\n",
       "      <td>0</td>\n",
       "      <td>NaN</td>\n",
       "      <td>NaN</td>\n",
       "      <td>NaN</td>\n",
       "      <td>0</td>\n",
       "      <td>12</td>\n",
       "      <td>2008</td>\n",
       "      <td>WD</td>\n",
       "      <td>Normal</td>\n",
       "      <td>250000</td>\n",
       "    </tr>\n",
       "  </tbody>\n",
       "</table>\n",
       "<p>5 rows × 81 columns</p>\n",
       "</div>"
      ],
      "text/plain": [
       "   Id  MSSubClass MSZoning  LotFrontage  LotArea Street Alley LotShape  \\\n",
       "0   1          60       RL         65.0     8450   Pave   NaN      Reg   \n",
       "1   2          20       RL         80.0     9600   Pave   NaN      Reg   \n",
       "2   3          60       RL         68.0    11250   Pave   NaN      IR1   \n",
       "3   4          70       RL         60.0     9550   Pave   NaN      IR1   \n",
       "4   5          60       RL         84.0    14260   Pave   NaN      IR1   \n",
       "\n",
       "  LandContour Utilities  ... PoolArea PoolQC Fence MiscFeature MiscVal MoSold  \\\n",
       "0         Lvl    AllPub  ...        0    NaN   NaN         NaN       0      2   \n",
       "1         Lvl    AllPub  ...        0    NaN   NaN         NaN       0      5   \n",
       "2         Lvl    AllPub  ...        0    NaN   NaN         NaN       0      9   \n",
       "3         Lvl    AllPub  ...        0    NaN   NaN         NaN       0      2   \n",
       "4         Lvl    AllPub  ...        0    NaN   NaN         NaN       0     12   \n",
       "\n",
       "  YrSold  SaleType  SaleCondition  SalePrice  \n",
       "0   2008        WD         Normal     208500  \n",
       "1   2007        WD         Normal     181500  \n",
       "2   2008        WD         Normal     223500  \n",
       "3   2006        WD        Abnorml     140000  \n",
       "4   2008        WD         Normal     250000  \n",
       "\n",
       "[5 rows x 81 columns]"
      ]
     },
     "execution_count": 4,
     "metadata": {},
     "output_type": "execute_result"
    }
   ],
   "source": [
    "train.head()"
   ]
  },
  {
   "cell_type": "code",
   "execution_count": 5,
   "id": "f0b58279",
   "metadata": {
    "execution": {
     "iopub.execute_input": "2025-08-11T16:39:45.216221Z",
     "iopub.status.busy": "2025-08-11T16:39:45.215669Z",
     "iopub.status.idle": "2025-08-11T16:39:45.233816Z",
     "shell.execute_reply": "2025-08-11T16:39:45.233020Z"
    },
    "papermill": {
     "duration": 0.027503,
     "end_time": "2025-08-11T16:39:45.235106",
     "exception": false,
     "start_time": "2025-08-11T16:39:45.207603",
     "status": "completed"
    },
    "tags": []
   },
   "outputs": [
    {
     "data": {
      "text/html": [
       "<div>\n",
       "<style scoped>\n",
       "    .dataframe tbody tr th:only-of-type {\n",
       "        vertical-align: middle;\n",
       "    }\n",
       "\n",
       "    .dataframe tbody tr th {\n",
       "        vertical-align: top;\n",
       "    }\n",
       "\n",
       "    .dataframe thead th {\n",
       "        text-align: right;\n",
       "    }\n",
       "</style>\n",
       "<table border=\"1\" class=\"dataframe\">\n",
       "  <thead>\n",
       "    <tr style=\"text-align: right;\">\n",
       "      <th></th>\n",
       "      <th>Id</th>\n",
       "      <th>MSSubClass</th>\n",
       "      <th>MSZoning</th>\n",
       "      <th>LotFrontage</th>\n",
       "      <th>LotArea</th>\n",
       "      <th>Street</th>\n",
       "      <th>Alley</th>\n",
       "      <th>LotShape</th>\n",
       "      <th>LandContour</th>\n",
       "      <th>Utilities</th>\n",
       "      <th>...</th>\n",
       "      <th>ScreenPorch</th>\n",
       "      <th>PoolArea</th>\n",
       "      <th>PoolQC</th>\n",
       "      <th>Fence</th>\n",
       "      <th>MiscFeature</th>\n",
       "      <th>MiscVal</th>\n",
       "      <th>MoSold</th>\n",
       "      <th>YrSold</th>\n",
       "      <th>SaleType</th>\n",
       "      <th>SaleCondition</th>\n",
       "    </tr>\n",
       "  </thead>\n",
       "  <tbody>\n",
       "    <tr>\n",
       "      <th>0</th>\n",
       "      <td>1461</td>\n",
       "      <td>20</td>\n",
       "      <td>RH</td>\n",
       "      <td>80.0</td>\n",
       "      <td>11622</td>\n",
       "      <td>Pave</td>\n",
       "      <td>NaN</td>\n",
       "      <td>Reg</td>\n",
       "      <td>Lvl</td>\n",
       "      <td>AllPub</td>\n",
       "      <td>...</td>\n",
       "      <td>120</td>\n",
       "      <td>0</td>\n",
       "      <td>NaN</td>\n",
       "      <td>MnPrv</td>\n",
       "      <td>NaN</td>\n",
       "      <td>0</td>\n",
       "      <td>6</td>\n",
       "      <td>2010</td>\n",
       "      <td>WD</td>\n",
       "      <td>Normal</td>\n",
       "    </tr>\n",
       "    <tr>\n",
       "      <th>1</th>\n",
       "      <td>1462</td>\n",
       "      <td>20</td>\n",
       "      <td>RL</td>\n",
       "      <td>81.0</td>\n",
       "      <td>14267</td>\n",
       "      <td>Pave</td>\n",
       "      <td>NaN</td>\n",
       "      <td>IR1</td>\n",
       "      <td>Lvl</td>\n",
       "      <td>AllPub</td>\n",
       "      <td>...</td>\n",
       "      <td>0</td>\n",
       "      <td>0</td>\n",
       "      <td>NaN</td>\n",
       "      <td>NaN</td>\n",
       "      <td>Gar2</td>\n",
       "      <td>12500</td>\n",
       "      <td>6</td>\n",
       "      <td>2010</td>\n",
       "      <td>WD</td>\n",
       "      <td>Normal</td>\n",
       "    </tr>\n",
       "    <tr>\n",
       "      <th>2</th>\n",
       "      <td>1463</td>\n",
       "      <td>60</td>\n",
       "      <td>RL</td>\n",
       "      <td>74.0</td>\n",
       "      <td>13830</td>\n",
       "      <td>Pave</td>\n",
       "      <td>NaN</td>\n",
       "      <td>IR1</td>\n",
       "      <td>Lvl</td>\n",
       "      <td>AllPub</td>\n",
       "      <td>...</td>\n",
       "      <td>0</td>\n",
       "      <td>0</td>\n",
       "      <td>NaN</td>\n",
       "      <td>MnPrv</td>\n",
       "      <td>NaN</td>\n",
       "      <td>0</td>\n",
       "      <td>3</td>\n",
       "      <td>2010</td>\n",
       "      <td>WD</td>\n",
       "      <td>Normal</td>\n",
       "    </tr>\n",
       "    <tr>\n",
       "      <th>3</th>\n",
       "      <td>1464</td>\n",
       "      <td>60</td>\n",
       "      <td>RL</td>\n",
       "      <td>78.0</td>\n",
       "      <td>9978</td>\n",
       "      <td>Pave</td>\n",
       "      <td>NaN</td>\n",
       "      <td>IR1</td>\n",
       "      <td>Lvl</td>\n",
       "      <td>AllPub</td>\n",
       "      <td>...</td>\n",
       "      <td>0</td>\n",
       "      <td>0</td>\n",
       "      <td>NaN</td>\n",
       "      <td>NaN</td>\n",
       "      <td>NaN</td>\n",
       "      <td>0</td>\n",
       "      <td>6</td>\n",
       "      <td>2010</td>\n",
       "      <td>WD</td>\n",
       "      <td>Normal</td>\n",
       "    </tr>\n",
       "    <tr>\n",
       "      <th>4</th>\n",
       "      <td>1465</td>\n",
       "      <td>120</td>\n",
       "      <td>RL</td>\n",
       "      <td>43.0</td>\n",
       "      <td>5005</td>\n",
       "      <td>Pave</td>\n",
       "      <td>NaN</td>\n",
       "      <td>IR1</td>\n",
       "      <td>HLS</td>\n",
       "      <td>AllPub</td>\n",
       "      <td>...</td>\n",
       "      <td>144</td>\n",
       "      <td>0</td>\n",
       "      <td>NaN</td>\n",
       "      <td>NaN</td>\n",
       "      <td>NaN</td>\n",
       "      <td>0</td>\n",
       "      <td>1</td>\n",
       "      <td>2010</td>\n",
       "      <td>WD</td>\n",
       "      <td>Normal</td>\n",
       "    </tr>\n",
       "  </tbody>\n",
       "</table>\n",
       "<p>5 rows × 80 columns</p>\n",
       "</div>"
      ],
      "text/plain": [
       "     Id  MSSubClass MSZoning  LotFrontage  LotArea Street Alley LotShape  \\\n",
       "0  1461          20       RH         80.0    11622   Pave   NaN      Reg   \n",
       "1  1462          20       RL         81.0    14267   Pave   NaN      IR1   \n",
       "2  1463          60       RL         74.0    13830   Pave   NaN      IR1   \n",
       "3  1464          60       RL         78.0     9978   Pave   NaN      IR1   \n",
       "4  1465         120       RL         43.0     5005   Pave   NaN      IR1   \n",
       "\n",
       "  LandContour Utilities  ... ScreenPorch PoolArea PoolQC  Fence MiscFeature  \\\n",
       "0         Lvl    AllPub  ...         120        0    NaN  MnPrv         NaN   \n",
       "1         Lvl    AllPub  ...           0        0    NaN    NaN        Gar2   \n",
       "2         Lvl    AllPub  ...           0        0    NaN  MnPrv         NaN   \n",
       "3         Lvl    AllPub  ...           0        0    NaN    NaN         NaN   \n",
       "4         HLS    AllPub  ...         144        0    NaN    NaN         NaN   \n",
       "\n",
       "  MiscVal MoSold  YrSold  SaleType  SaleCondition  \n",
       "0       0      6    2010        WD         Normal  \n",
       "1   12500      6    2010        WD         Normal  \n",
       "2       0      3    2010        WD         Normal  \n",
       "3       0      6    2010        WD         Normal  \n",
       "4       0      1    2010        WD         Normal  \n",
       "\n",
       "[5 rows x 80 columns]"
      ]
     },
     "execution_count": 5,
     "metadata": {},
     "output_type": "execute_result"
    }
   ],
   "source": [
    "test.head()"
   ]
  },
  {
   "cell_type": "code",
   "execution_count": 6,
   "id": "fd52c257",
   "metadata": {
    "execution": {
     "iopub.execute_input": "2025-08-11T16:39:45.251815Z",
     "iopub.status.busy": "2025-08-11T16:39:45.251199Z",
     "iopub.status.idle": "2025-08-11T16:39:45.260648Z",
     "shell.execute_reply": "2025-08-11T16:39:45.259821Z"
    },
    "papermill": {
     "duration": 0.019346,
     "end_time": "2025-08-11T16:39:45.262156",
     "exception": false,
     "start_time": "2025-08-11T16:39:45.242810",
     "status": "completed"
    },
    "tags": []
   },
   "outputs": [],
   "source": [
    "numerical_features = train.select_dtypes(include=np.number).drop(columns=['SalePrice','Id'])"
   ]
  },
  {
   "cell_type": "code",
   "execution_count": 7,
   "id": "e1508fcf",
   "metadata": {
    "execution": {
     "iopub.execute_input": "2025-08-11T16:39:45.278301Z",
     "iopub.status.busy": "2025-08-11T16:39:45.277924Z",
     "iopub.status.idle": "2025-08-11T16:39:45.283704Z",
     "shell.execute_reply": "2025-08-11T16:39:45.282970Z"
    },
    "papermill": {
     "duration": 0.015273,
     "end_time": "2025-08-11T16:39:45.285123",
     "exception": false,
     "start_time": "2025-08-11T16:39:45.269850",
     "status": "completed"
    },
    "tags": []
   },
   "outputs": [
    {
     "data": {
      "text/plain": [
       "Index(['MSSubClass', 'LotFrontage', 'LotArea', 'OverallQual', 'OverallCond',\n",
       "       'YearBuilt', 'YearRemodAdd', 'MasVnrArea', 'BsmtFinSF1', 'BsmtFinSF2',\n",
       "       'BsmtUnfSF', 'TotalBsmtSF', '1stFlrSF', '2ndFlrSF', 'LowQualFinSF',\n",
       "       'GrLivArea', 'BsmtFullBath', 'BsmtHalfBath', 'FullBath', 'HalfBath',\n",
       "       'BedroomAbvGr', 'KitchenAbvGr', 'TotRmsAbvGrd', 'Fireplaces',\n",
       "       'GarageYrBlt', 'GarageCars', 'GarageArea', 'WoodDeckSF', 'OpenPorchSF',\n",
       "       'EnclosedPorch', '3SsnPorch', 'ScreenPorch', 'PoolArea', 'MiscVal',\n",
       "       'MoSold', 'YrSold'],\n",
       "      dtype='object')"
      ]
     },
     "execution_count": 7,
     "metadata": {},
     "output_type": "execute_result"
    }
   ],
   "source": [
    "numerical_features.columns"
   ]
  },
  {
   "cell_type": "code",
   "execution_count": 8,
   "id": "ce209f0e",
   "metadata": {
    "execution": {
     "iopub.execute_input": "2025-08-11T16:39:45.301337Z",
     "iopub.status.busy": "2025-08-11T16:39:45.301014Z",
     "iopub.status.idle": "2025-08-11T16:39:45.306159Z",
     "shell.execute_reply": "2025-08-11T16:39:45.305359Z"
    },
    "papermill": {
     "duration": 0.014809,
     "end_time": "2025-08-11T16:39:45.307567",
     "exception": false,
     "start_time": "2025-08-11T16:39:45.292758",
     "status": "completed"
    },
    "tags": []
   },
   "outputs": [],
   "source": [
    "object_features = train.select_dtypes(include=object)"
   ]
  },
  {
   "cell_type": "code",
   "execution_count": 9,
   "id": "2e53bf0e",
   "metadata": {
    "execution": {
     "iopub.execute_input": "2025-08-11T16:39:45.324127Z",
     "iopub.status.busy": "2025-08-11T16:39:45.323374Z",
     "iopub.status.idle": "2025-08-11T16:39:45.329037Z",
     "shell.execute_reply": "2025-08-11T16:39:45.328315Z"
    },
    "papermill": {
     "duration": 0.015132,
     "end_time": "2025-08-11T16:39:45.330252",
     "exception": false,
     "start_time": "2025-08-11T16:39:45.315120",
     "status": "completed"
    },
    "tags": []
   },
   "outputs": [
    {
     "data": {
      "text/plain": [
       "Index(['MSZoning', 'Street', 'Alley', 'LotShape', 'LandContour', 'Utilities',\n",
       "       'LotConfig', 'LandSlope', 'Neighborhood', 'Condition1', 'Condition2',\n",
       "       'BldgType', 'HouseStyle', 'RoofStyle', 'RoofMatl', 'Exterior1st',\n",
       "       'Exterior2nd', 'MasVnrType', 'ExterQual', 'ExterCond', 'Foundation',\n",
       "       'BsmtQual', 'BsmtCond', 'BsmtExposure', 'BsmtFinType1', 'BsmtFinType2',\n",
       "       'Heating', 'HeatingQC', 'CentralAir', 'Electrical', 'KitchenQual',\n",
       "       'Functional', 'FireplaceQu', 'GarageType', 'GarageFinish', 'GarageQual',\n",
       "       'GarageCond', 'PavedDrive', 'PoolQC', 'Fence', 'MiscFeature',\n",
       "       'SaleType', 'SaleCondition'],\n",
       "      dtype='object')"
      ]
     },
     "execution_count": 9,
     "metadata": {},
     "output_type": "execute_result"
    }
   ],
   "source": [
    "object_features.columns"
   ]
  },
  {
   "cell_type": "code",
   "execution_count": 10,
   "id": "e8f20cd2",
   "metadata": {
    "execution": {
     "iopub.execute_input": "2025-08-11T16:39:45.346916Z",
     "iopub.status.busy": "2025-08-11T16:39:45.346236Z",
     "iopub.status.idle": "2025-08-11T16:39:45.730662Z",
     "shell.execute_reply": "2025-08-11T16:39:45.729913Z"
    },
    "papermill": {
     "duration": 0.394231,
     "end_time": "2025-08-11T16:39:45.732116",
     "exception": false,
     "start_time": "2025-08-11T16:39:45.337885",
     "status": "completed"
    },
    "tags": []
   },
   "outputs": [
    {
     "data": {
      "text/plain": [
       "<Axes: title={'center': 'Log Normal'}, xlabel='SalePrice'>"
      ]
     },
     "execution_count": 10,
     "metadata": {},
     "output_type": "execute_result"
    },
    {
     "data": {
      "image/png": "[encoded data removed]",
      "text/plain": [
       "<Figure size 640x480 with 1 Axes>"
      ]
     },
     "metadata": {},
     "output_type": "display_data"
    }
   ],
   "source": [
    "y = train['SalePrice']\n",
    "plt.figure(1); plt.title('Log Normal')\n",
    "sns.distplot(y, kde=False, fit=stats.lognorm)"
   ]
  },
  {
   "cell_type": "code",
   "execution_count": 11,
   "id": "d25422b9",
   "metadata": {
    "execution": {
     "iopub.execute_input": "2025-08-11T16:39:45.749362Z",
     "iopub.status.busy": "2025-08-11T16:39:45.749037Z",
     "iopub.status.idle": "2025-08-11T16:39:45.770668Z",
     "shell.execute_reply": "2025-08-11T16:39:45.769825Z"
    },
    "papermill": {
     "duration": 0.031776,
     "end_time": "2025-08-11T16:39:45.772084",
     "exception": false,
     "start_time": "2025-08-11T16:39:45.740308",
     "status": "completed"
    },
    "tags": []
   },
   "outputs": [
    {
     "name": "stdout",
     "output_type": "stream",
     "text": [
      "False\n"
     ]
    }
   ],
   "source": [
    "normalization = lambda x: stats.shapiro(x.fillna(0))[1] < 0.01\n",
    "normal = pd.DataFrame(train[numerical_features.columns])\n",
    "normal = normal.apply(normalization)\n",
    "print(not normal.any())"
   ]
  },
  {
   "cell_type": "code",
   "execution_count": 12,
   "id": "c963cf7b",
   "metadata": {
    "execution": {
     "iopub.execute_input": "2025-08-11T16:39:45.789861Z",
     "iopub.status.busy": "2025-08-11T16:39:45.789245Z",
     "iopub.status.idle": "2025-08-11T16:39:45.793989Z",
     "shell.execute_reply": "2025-08-11T16:39:45.793309Z"
    },
    "papermill": {
     "duration": 0.014716,
     "end_time": "2025-08-11T16:39:45.795118",
     "exception": false,
     "start_time": "2025-08-11T16:39:45.780402",
     "status": "completed"
    },
    "tags": []
   },
   "outputs": [],
   "source": [
    "numerical_features['SalePrice'] = train['SalePrice']"
   ]
  },
  {
   "cell_type": "code",
   "execution_count": 13,
   "id": "5b7de843",
   "metadata": {
    "execution": {
     "iopub.execute_input": "2025-08-11T16:39:45.812912Z",
     "iopub.status.busy": "2025-08-11T16:39:45.812605Z",
     "iopub.status.idle": "2025-08-11T16:39:46.315225Z",
     "shell.execute_reply": "2025-08-11T16:39:46.314248Z"
    },
    "papermill": {
     "duration": 0.514023,
     "end_time": "2025-08-11T16:39:46.317697",
     "exception": false,
     "start_time": "2025-08-11T16:39:45.803674",
     "status": "completed"
    },
    "tags": []
   },
   "outputs": [
    {
     "data": {
      "text/plain": [
       "<Axes: title={'center': 'numerical correlation'}>"
      ]
     },
     "execution_count": 13,
     "metadata": {},
     "output_type": "execute_result"
    },
    {
     "data": {
      "image/png": "[encoded data removed]",
      "text/plain": [
       "<Figure size 640x480 with 2 Axes>"
      ]
     },
     "metadata": {},
     "output_type": "display_data"
    }
   ],
   "source": [
    "plt.figure(1); plt.title('numerical correlation')\n",
    "sns.heatmap(numerical_features.corr(), annot=False)"
   ]
  },
  {
   "cell_type": "markdown",
   "id": "47a8c3e3",
   "metadata": {
    "papermill": {
     "duration": 0.009974,
     "end_time": "2025-08-11T16:39:46.337585",
     "exception": false,
     "start_time": "2025-08-11T16:39:46.327611",
     "status": "completed"
    },
    "tags": []
   },
   "source": [
    "# Models"
   ]
  },
  {
   "cell_type": "code",
   "execution_count": 14,
   "id": "badb60ae",
   "metadata": {
    "execution": {
     "iopub.execute_input": "2025-08-11T16:39:46.357418Z",
     "iopub.status.busy": "2025-08-11T16:39:46.357094Z",
     "iopub.status.idle": "2025-08-11T16:39:46.365246Z",
     "shell.execute_reply": "2025-08-11T16:39:46.364302Z"
    },
    "papermill": {
     "duration": 0.019971,
     "end_time": "2025-08-11T16:39:46.366913",
     "exception": false,
     "start_time": "2025-08-11T16:39:46.346942",
     "status": "completed"
    },
    "tags": []
   },
   "outputs": [],
   "source": [
    "train.drop(['Id'], axis=1, inplace=True)\n",
    "test.drop(['Id'], axis=1, inplace=True)"
   ]
  },
  {
   "cell_type": "code",
   "execution_count": 15,
   "id": "0f7b3e0e",
   "metadata": {
    "execution": {
     "iopub.execute_input": "2025-08-11T16:39:46.387725Z",
     "iopub.status.busy": "2025-08-11T16:39:46.387020Z",
     "iopub.status.idle": "2025-08-11T16:39:46.395079Z",
     "shell.execute_reply": "2025-08-11T16:39:46.394066Z"
    },
    "papermill": {
     "duration": 0.019896,
     "end_time": "2025-08-11T16:39:46.396535",
     "exception": false,
     "start_time": "2025-08-11T16:39:46.376639",
     "status": "completed"
    },
    "tags": []
   },
   "outputs": [],
   "source": [
    "train.reset_index(drop=True, inplace=True)\n",
    "train['SalePrice'] = np.log1p(train['SalePrice'])\n",
    "y = train['SalePrice'].reset_index(drop=True)"
   ]
  },
  {
   "cell_type": "code",
   "execution_count": 16,
   "id": "fd941abc",
   "metadata": {
    "execution": {
     "iopub.execute_input": "2025-08-11T16:39:46.417206Z",
     "iopub.status.busy": "2025-08-11T16:39:46.416544Z",
     "iopub.status.idle": "2025-08-11T16:39:46.423032Z",
     "shell.execute_reply": "2025-08-11T16:39:46.421886Z"
    },
    "papermill": {
     "duration": 0.018466,
     "end_time": "2025-08-11T16:39:46.424513",
     "exception": false,
     "start_time": "2025-08-11T16:39:46.406047",
     "status": "completed"
    },
    "tags": []
   },
   "outputs": [],
   "source": [
    "train = train.drop(['SalePrice'], axis=1)"
   ]
  },
  {
   "cell_type": "code",
   "execution_count": 17,
   "id": "96b1a733",
   "metadata": {
    "execution": {
     "iopub.execute_input": "2025-08-11T16:39:46.444596Z",
     "iopub.status.busy": "2025-08-11T16:39:46.444231Z",
     "iopub.status.idle": "2025-08-11T16:39:46.450091Z",
     "shell.execute_reply": "2025-08-11T16:39:46.449151Z"
    },
    "papermill": {
     "duration": 0.017428,
     "end_time": "2025-08-11T16:39:46.451428",
     "exception": false,
     "start_time": "2025-08-11T16:39:46.434000",
     "status": "completed"
    },
    "tags": []
   },
   "outputs": [
    {
     "data": {
      "text/plain": [
       "(1460, 79)"
      ]
     },
     "execution_count": 17,
     "metadata": {},
     "output_type": "execute_result"
    }
   ],
   "source": [
    "df_train = train\n",
    "df_train.shape"
   ]
  },
  {
   "cell_type": "code",
   "execution_count": 18,
   "id": "25d85677",
   "metadata": {
    "execution": {
     "iopub.execute_input": "2025-08-11T16:39:46.472071Z",
     "iopub.status.busy": "2025-08-11T16:39:46.471485Z",
     "iopub.status.idle": "2025-08-11T16:39:46.479240Z",
     "shell.execute_reply": "2025-08-11T16:39:46.478132Z"
    },
    "papermill": {
     "duration": 0.01954,
     "end_time": "2025-08-11T16:39:46.480694",
     "exception": false,
     "start_time": "2025-08-11T16:39:46.461154",
     "status": "completed"
    },
    "tags": []
   },
   "outputs": [
    {
     "data": {
      "text/plain": [
       "0       2003.0\n",
       "1       1976.0\n",
       "2       2001.0\n",
       "3       1998.0\n",
       "4       2000.0\n",
       "         ...  \n",
       "1455    1999.0\n",
       "1456    1978.0\n",
       "1457    1941.0\n",
       "1458    1950.0\n",
       "1459    1965.0\n",
       "Name: GarageYrBlt, Length: 1460, dtype: float64"
      ]
     },
     "execution_count": 18,
     "metadata": {},
     "output_type": "execute_result"
    }
   ],
   "source": [
    "df_train['GarageYrBlt']"
   ]
  },
  {
   "cell_type": "code",
   "execution_count": 19,
   "id": "a868bbfe",
   "metadata": {
    "execution": {
     "iopub.execute_input": "2025-08-11T16:39:46.565603Z",
     "iopub.status.busy": "2025-08-11T16:39:46.565157Z",
     "iopub.status.idle": "2025-08-11T16:39:46.637817Z",
     "shell.execute_reply": "2025-08-11T16:39:46.636801Z"
    },
    "papermill": {
     "duration": 0.08617,
     "end_time": "2025-08-11T16:39:46.639556",
     "exception": false,
     "start_time": "2025-08-11T16:39:46.553386",
     "status": "completed"
    },
    "tags": []
   },
   "outputs": [],
   "source": [
    "df_train.drop(['Street'], axis=1)\n",
    "df_train['LotFrontage'].fillna(math.ceil(df_train['LotFrontage'].mean()), inplace=True)\n",
    "df_train['MSZoning'].fillna(df_train['MSZoning'].mode()[0], inplace=True)\n",
    "df_train['Alley'].fillna('None', inplace=True)\n",
    "df_train['Utilities'].fillna(df_train['Utilities'].mode()[0], inplace=True)\n",
    "df_train['Exterior1st'].fillna(df_train['Exterior1st'].mode()[0], inplace=True)\n",
    "df_train['Exterior2nd'].fillna(df_train['Exterior2nd'].mode()[0], inplace=True)\n",
    "df_train['MasVnrType'].fillna('None', inplace=True)\n",
    "\n",
    "df_train.loc[df_train['MasVnrType'] == 'None', 'MasVnrArea'] = \\\n",
    "    df_train.loc[df_train['MasVnrType'] == 'None', 'MasVnrArea'].fillna(0)\n",
    "\n",
    "df_train.loc[df_train['MasVnrType'] != 'None', 'MasVnrArea'] = \\\n",
    "    df_train.loc[df_train['MasVnrType'] != 'None', 'MasVnrArea'].fillna(\n",
    "        math.ceil(df_train['MasVnrArea'].mean()))\n",
    "\n",
    "df_train['BsmtQual'].fillna('None', inplace=True)\n",
    "\n",
    "# When BsmtQual == 'None'\n",
    "df_train.loc[df_train['BsmtQual'] == 'None', ['BsmtFinSF1', 'BsmtFinSF2', 'BsmtUnfSF']] = \\\n",
    "    df_train.loc[df_train['BsmtQual'] == 'None', ['BsmtFinSF1', 'BsmtFinSF2', 'BsmtUnfSF']].fillna(0)\n",
    "\n",
    "df_train.loc[df_train['BsmtQual'] == 'None', ['BsmtCond', 'BsmtExposure', 'BsmtFinType1', 'BsmtFinType2']] = \\\n",
    "    df_train.loc[df_train['BsmtQual'] == 'None', ['BsmtCond', 'BsmtExposure', 'BsmtFinType1', 'BsmtFinType2']].fillna('None')\n",
    "\n",
    "# When BsmtQual != 'None'\n",
    "df_train.loc[df_train['BsmtQual'] != 'None', 'BsmtFinSF1'] = \\\n",
    "    df_train.loc[df_train['BsmtQual'] != 'None', 'BsmtFinSF1'].fillna(\n",
    "        math.ceil(df_train['BsmtFinSF1'].mean()))\n",
    "\n",
    "df_train.loc[df_train['BsmtQual'] != 'None', 'BsmtFinSF2'] = \\\n",
    "    df_train.loc[df_train['BsmtQual'] != 'None', 'BsmtFinSF2'].fillna(\n",
    "        math.ceil(df_train['BsmtFinSF1'].mean()))\n",
    "\n",
    "df_train.loc[df_train['BsmtQual'] != 'None', 'BsmtCond'] = \\\n",
    "    df_train.loc[df_train['BsmtQual'] != 'None', 'BsmtFinSF2'].fillna(\n",
    "        df_train['BsmtCond'].mode()[0])\n",
    "\n",
    "df_train.loc[df_train['BsmtQual'] != 'None', 'BsmtExposure'] = \\\n",
    "    df_train.loc[df_train['BsmtQual'] != 'None', 'BsmtExposure'].fillna(\n",
    "        df_train['BsmtExposure'].mode()[0])\n",
    "\n",
    "df_train.loc[df_train['BsmtQual'] != 'None', 'BsmtFinType1'] = \\\n",
    "    df_train.loc[df_train['BsmtQual'] != 'None', 'BsmtFinType1'].fillna(\n",
    "        df_train['BsmtFinType1'].mode()[0])\n",
    "\n",
    "df_train.loc[df_train['BsmtQual'] != 'None', 'BsmtFinType2'] = \\\n",
    "    df_train.loc[df_train['BsmtQual'] != 'None', 'BsmtFinType2'].fillna(\n",
    "        df_train['BsmtFinType2'].mode()[0])\n",
    "\n",
    "df_train.loc[df_train['BsmtQual'] != 'None', 'BsmtUnfSF'] = \\\n",
    "    df_train.loc[df_train['BsmtQual'] != 'None', 'BsmtUnfSF'].fillna(0)\n",
    "\n",
    "\n",
    "# df_train['BsmtCond'].fillna('None', inplace=True)\n",
    "# df_train['BsmtExposure'].fillna('None', inplace=True)\n",
    "# df_train['BsmtFinType1'].fillna('None', inplace=True)\n",
    "# df_train['BsmtFinSF1'].fillna(math.ceil(df_train['BsmtFinSF1'].mean()), inplace=True)\n",
    "# df_train['BsmtFinType2'].fillna('None', inplace=True)\n",
    "# df_train['BsmtFinSF2'].fillna(math.ceil(df_train['BsmtFinSF2'].mean()), inplace=True)\n",
    "# df_train['BsmtUnfSF'].fillna(math.ceil(df_train['BsmtUnfSF'].mean()), inplace=True)\n",
    "\n",
    "df_train.drop(['TotalBsmtSF'], axis=1)\n",
    "df_train['TotalBsmtSF'] = df_train['BsmtFinSF1'] + df_train['BsmtFinSF2'] + df_train['BsmtUnfSF']\n",
    "# df_train['TotalBsmtSF'].fillna(math.ceil(df_train['TotalBsmtSF'].mean()), inplace=True)\n",
    "df_train['Electrical'].fillna(df_train['Electrical'].mode()[0], inplace=True)\n",
    "df_train['BsmtFullBath'].fillna(math.ceil(df_train['BsmtFullBath'].mean()), inplace=True)\n",
    "df_train['BsmtHalfBath'].fillna(math.ceil(df_train['BsmtHalfBath'].mean()), inplace=True)\n",
    "df_train['KitchenQual'].fillna(df_train['KitchenQual'].mode()[0], inplace=True)\n",
    "df_train['Functional'].fillna(df_train['Functional'].mode()[0], inplace=True)\n",
    "df_train['GarageType'].fillna('None', inplace=True)\n",
    "\n",
    "# When GarageType == 'None'\n",
    "df_train.loc[df_train['GarageType'] == 'None', ['GarageYrBlt', 'GarageCars', 'GarageArea']] = \\\n",
    "    df_train.loc[df_train['GarageType'] == 'None', ['GarageYrBlt', 'GarageCars', 'GarageArea']].fillna(0)\n",
    "\n",
    "df_train.loc[df_train['GarageType'] == 'None', ['GarageFinish', 'GarageQual', 'GarageCond']] = \\\n",
    "    df_train.loc[df_train['GarageType'] == 'None', ['GarageFinish', 'GarageQual', 'GarageCond']].fillna('None')\n",
    "\n",
    "# When GarageType != 'None'\n",
    "df_train.loc[df_train['GarageType'] != 'None', 'GarageYrBlt'] = \\\n",
    "    df_train.loc[df_train['GarageType'] != 'None', 'GarageYrBlt'].fillna(\n",
    "        math.ceil(df_train['GarageYrBlt'].mean()))\n",
    "\n",
    "df_train.loc[df_train['GarageType'] != 'None', 'GarageArea'] = \\\n",
    "    df_train.loc[df_train['GarageType'] != 'None', 'GarageArea'].fillna(\n",
    "        math.ceil(df_train['GarageArea'].mean()))\n",
    "\n",
    "df_train.loc[df_train['GarageType'] != 'None', 'GarageCars'] = \\\n",
    "    df_train.loc[df_train['GarageType'] != 'None', 'GarageCars'].fillna(\n",
    "        math.ceil(df_train['GarageCars'].mean()))\n",
    "\n",
    "df_train.loc[df_train['GarageType'] != 'None', ['GarageFinish', 'GarageQual', 'GarageCond']] = \\\n",
    "    df_train.loc[df_train['GarageType'] != 'None', ['GarageFinish', 'GarageQual', 'GarageCond']].fillna(\n",
    "        {'GarageFinish': 'None', 'GarageQual': 'None', 'GarageCond': 'None'})\n",
    "df_train['PoolQC'].fillna('None', inplace=True)\n",
    "df_train['Fence'].fillna('None', inplace=True)\n",
    "df_train['MiscFeature'].fillna('None', inplace=True)\n",
    "df_train['SaleType'].fillna(df_train['SaleType'].mode()[0], inplace=True)\n",
    "df_train['FireplaceQu'].fillna('None', inplace=True)"
   ]
  },
  {
   "cell_type": "code",
   "execution_count": 20,
   "id": "411e2ec0",
   "metadata": {
    "execution": {
     "iopub.execute_input": "2025-08-11T16:39:46.660446Z",
     "iopub.status.busy": "2025-08-11T16:39:46.660091Z",
     "iopub.status.idle": "2025-08-11T16:39:46.672344Z",
     "shell.execute_reply": "2025-08-11T16:39:46.671288Z"
    },
    "papermill": {
     "duration": 0.024427,
     "end_time": "2025-08-11T16:39:46.673842",
     "exception": false,
     "start_time": "2025-08-11T16:39:46.649415",
     "status": "completed"
    },
    "tags": []
   },
   "outputs": [
    {
     "data": {
      "text/plain": [
       "[0,\n",
       " 0,\n",
       " 0,\n",
       " 0,\n",
       " 0,\n",
       " 0,\n",
       " 0,\n",
       " 0,\n",
       " 0,\n",
       " 0,\n",
       " 0,\n",
       " 0,\n",
       " 0,\n",
       " 0,\n",
       " 0,\n",
       " 0,\n",
       " 0,\n",
       " 0,\n",
       " 0,\n",
       " 0,\n",
       " 0,\n",
       " 0,\n",
       " 0,\n",
       " 0,\n",
       " 0,\n",
       " 0,\n",
       " 0,\n",
       " 0,\n",
       " 0,\n",
       " 0,\n",
       " 0,\n",
       " 0,\n",
       " 0,\n",
       " 0,\n",
       " 0,\n",
       " 0,\n",
       " 0,\n",
       " 0,\n",
       " 0,\n",
       " 0,\n",
       " 0,\n",
       " 0,\n",
       " 0,\n",
       " 0,\n",
       " 0,\n",
       " 0,\n",
       " 0,\n",
       " 0,\n",
       " 0,\n",
       " 0,\n",
       " 0,\n",
       " 0,\n",
       " 0,\n",
       " 0,\n",
       " 0,\n",
       " 0,\n",
       " 0,\n",
       " 0,\n",
       " 0,\n",
       " 0,\n",
       " 0,\n",
       " 0,\n",
       " 0,\n",
       " 0,\n",
       " 0,\n",
       " 0,\n",
       " 0,\n",
       " 0,\n",
       " 0,\n",
       " 0,\n",
       " 0,\n",
       " 0,\n",
       " 0,\n",
       " 0,\n",
       " 0,\n",
       " 0,\n",
       " 0,\n",
       " 0,\n",
       " 0]"
      ]
     },
     "execution_count": 20,
     "metadata": {},
     "output_type": "execute_result"
    }
   ],
   "source": [
    "df_train.isnull().sum().tolist()"
   ]
  },
  {
   "cell_type": "code",
   "execution_count": 21,
   "id": "a531b3ac",
   "metadata": {
    "execution": {
     "iopub.execute_input": "2025-08-11T16:39:46.695983Z",
     "iopub.status.busy": "2025-08-11T16:39:46.695612Z",
     "iopub.status.idle": "2025-08-11T16:39:46.701366Z",
     "shell.execute_reply": "2025-08-11T16:39:46.700437Z"
    },
    "papermill": {
     "duration": 0.018789,
     "end_time": "2025-08-11T16:39:46.702776",
     "exception": false,
     "start_time": "2025-08-11T16:39:46.683987",
     "status": "completed"
    },
    "tags": []
   },
   "outputs": [],
   "source": [
    "df_1 = train[['BsmtFinSF1','BsmtFinSF2','BsmtUnfSF','TotalBsmtSF']]"
   ]
  },
  {
   "cell_type": "code",
   "execution_count": 22,
   "id": "603609e7",
   "metadata": {
    "execution": {
     "iopub.execute_input": "2025-08-11T16:39:46.724350Z",
     "iopub.status.busy": "2025-08-11T16:39:46.723594Z",
     "iopub.status.idle": "2025-08-11T16:39:46.733305Z",
     "shell.execute_reply": "2025-08-11T16:39:46.732468Z"
    },
    "papermill": {
     "duration": 0.021881,
     "end_time": "2025-08-11T16:39:46.734671",
     "exception": false,
     "start_time": "2025-08-11T16:39:46.712790",
     "status": "completed"
    },
    "tags": []
   },
   "outputs": [
    {
     "data": {
      "text/html": [
       "<div>\n",
       "<style scoped>\n",
       "    .dataframe tbody tr th:only-of-type {\n",
       "        vertical-align: middle;\n",
       "    }\n",
       "\n",
       "    .dataframe tbody tr th {\n",
       "        vertical-align: top;\n",
       "    }\n",
       "\n",
       "    .dataframe thead th {\n",
       "        text-align: right;\n",
       "    }\n",
       "</style>\n",
       "<table border=\"1\" class=\"dataframe\">\n",
       "  <thead>\n",
       "    <tr style=\"text-align: right;\">\n",
       "      <th></th>\n",
       "      <th>BsmtFinSF1</th>\n",
       "      <th>BsmtFinSF2</th>\n",
       "      <th>BsmtUnfSF</th>\n",
       "      <th>TotalBsmtSF</th>\n",
       "    </tr>\n",
       "  </thead>\n",
       "  <tbody>\n",
       "    <tr>\n",
       "      <th>0</th>\n",
       "      <td>706</td>\n",
       "      <td>0</td>\n",
       "      <td>150</td>\n",
       "      <td>856</td>\n",
       "    </tr>\n",
       "    <tr>\n",
       "      <th>1</th>\n",
       "      <td>978</td>\n",
       "      <td>0</td>\n",
       "      <td>284</td>\n",
       "      <td>1262</td>\n",
       "    </tr>\n",
       "    <tr>\n",
       "      <th>2</th>\n",
       "      <td>486</td>\n",
       "      <td>0</td>\n",
       "      <td>434</td>\n",
       "      <td>920</td>\n",
       "    </tr>\n",
       "    <tr>\n",
       "      <th>3</th>\n",
       "      <td>216</td>\n",
       "      <td>0</td>\n",
       "      <td>540</td>\n",
       "      <td>756</td>\n",
       "    </tr>\n",
       "    <tr>\n",
       "      <th>4</th>\n",
       "      <td>655</td>\n",
       "      <td>0</td>\n",
       "      <td>490</td>\n",
       "      <td>1145</td>\n",
       "    </tr>\n",
       "    <tr>\n",
       "      <th>...</th>\n",
       "      <td>...</td>\n",
       "      <td>...</td>\n",
       "      <td>...</td>\n",
       "      <td>...</td>\n",
       "    </tr>\n",
       "    <tr>\n",
       "      <th>1455</th>\n",
       "      <td>0</td>\n",
       "      <td>0</td>\n",
       "      <td>953</td>\n",
       "      <td>953</td>\n",
       "    </tr>\n",
       "    <tr>\n",
       "      <th>1456</th>\n",
       "      <td>790</td>\n",
       "      <td>163</td>\n",
       "      <td>589</td>\n",
       "      <td>1542</td>\n",
       "    </tr>\n",
       "    <tr>\n",
       "      <th>1457</th>\n",
       "      <td>275</td>\n",
       "      <td>0</td>\n",
       "      <td>877</td>\n",
       "      <td>1152</td>\n",
       "    </tr>\n",
       "    <tr>\n",
       "      <th>1458</th>\n",
       "      <td>49</td>\n",
       "      <td>1029</td>\n",
       "      <td>0</td>\n",
       "      <td>1078</td>\n",
       "    </tr>\n",
       "    <tr>\n",
       "      <th>1459</th>\n",
       "      <td>830</td>\n",
       "      <td>290</td>\n",
       "      <td>136</td>\n",
       "      <td>1256</td>\n",
       "    </tr>\n",
       "  </tbody>\n",
       "</table>\n",
       "<p>1460 rows × 4 columns</p>\n",
       "</div>"
      ],
      "text/plain": [
       "      BsmtFinSF1  BsmtFinSF2  BsmtUnfSF  TotalBsmtSF\n",
       "0            706           0        150          856\n",
       "1            978           0        284         1262\n",
       "2            486           0        434          920\n",
       "3            216           0        540          756\n",
       "4            655           0        490         1145\n",
       "...          ...         ...        ...          ...\n",
       "1455           0           0        953          953\n",
       "1456         790         163        589         1542\n",
       "1457         275           0        877         1152\n",
       "1458          49        1029          0         1078\n",
       "1459         830         290        136         1256\n",
       "\n",
       "[1460 rows x 4 columns]"
      ]
     },
     "execution_count": 22,
     "metadata": {},
     "output_type": "execute_result"
    }
   ],
   "source": [
    "df_1"
   ]
  },
  {
   "cell_type": "code",
   "execution_count": 23,
   "id": "1ecebc3d",
   "metadata": {
    "execution": {
     "iopub.execute_input": "2025-08-11T16:39:46.756448Z",
     "iopub.status.busy": "2025-08-11T16:39:46.756106Z",
     "iopub.status.idle": "2025-08-11T16:39:46.821930Z",
     "shell.execute_reply": "2025-08-11T16:39:46.820745Z"
    },
    "papermill": {
     "duration": 0.078696,
     "end_time": "2025-08-11T16:39:46.823629",
     "exception": false,
     "start_time": "2025-08-11T16:39:46.744933",
     "status": "completed"
    },
    "tags": []
   },
   "outputs": [],
   "source": [
    "test.drop(['Street'], axis=1)\n",
    "test['LotFrontage'].fillna(math.ceil(test['LotFrontage'].mean()), inplace=True)\n",
    "test['MSZoning'].fillna(test['MSZoning'].mode()[0], inplace=True)\n",
    "test['Alley'].fillna('None', inplace=True)\n",
    "test['Utilities'].fillna(test['Utilities'].mode()[0], inplace=True)\n",
    "test['Exterior1st'].fillna(test['Exterior1st'].mode()[0], inplace=True)\n",
    "test['Exterior2nd'].fillna(test['Exterior2nd'].mode()[0], inplace=True)\n",
    "test['MasVnrType'].fillna('None', inplace=True)\n",
    "\n",
    "test.loc[test['MasVnrType'] == 'None', 'MasVnrArea'] = \\\n",
    "    test.loc[test['MasVnrType'] == 'None', 'MasVnrArea'].fillna(0)\n",
    "\n",
    "test.loc[test['MasVnrType'] != 'None', 'MasVnrArea'] = \\\n",
    "    test.loc[test['MasVnrType'] != 'None', 'MasVnrArea'].fillna(\n",
    "        math.ceil(test['MasVnrArea'].mean()))\n",
    "\n",
    "test['BsmtQual'].fillna('None', inplace=True)\n",
    "\n",
    "# When BsmtQual == 'None'\n",
    "test.loc[test['BsmtQual'] == 'None', ['BsmtFinSF1', 'BsmtFinSF2', 'BsmtUnfSF']] = \\\n",
    "    test.loc[test['BsmtQual'] == 'None', ['BsmtFinSF1', 'BsmtFinSF2', 'BsmtUnfSF']].fillna(0)\n",
    "\n",
    "test.loc[test['BsmtQual'] == 'None', ['BsmtCond', 'BsmtExposure', 'BsmtFinType1', 'BsmtFinType2']] = \\\n",
    "    test.loc[test['BsmtQual'] == 'None', ['BsmtCond', 'BsmtExposure', 'BsmtFinType1', 'BsmtFinType2']].fillna('None')\n",
    "\n",
    "# When BsmtQual != 'None'\n",
    "test.loc[test['BsmtQual'] != 'None', 'BsmtFinSF1'] = \\\n",
    "    test.loc[test['BsmtQual'] != 'None', 'BsmtFinSF1'].fillna(\n",
    "        math.ceil(test['BsmtFinSF1'].mean()))\n",
    "\n",
    "test.loc[test['BsmtQual'] != 'None', 'BsmtFinSF2'] = \\\n",
    "    test.loc[test['BsmtQual'] != 'None', 'BsmtFinSF2'].fillna(\n",
    "        math.ceil(test['BsmtFinSF1'].mean()))\n",
    "\n",
    "test.loc[test['BsmtQual'] != 'None', 'BsmtCond'] = \\\n",
    "    test.loc[test['BsmtQual'] != 'None', 'BsmtFinSF2'].fillna(\n",
    "        test['BsmtCond'].mode()[0])\n",
    "\n",
    "test.loc[test['BsmtQual'] != 'None', 'BsmtExposure'] = \\\n",
    "    test.loc[test['BsmtQual'] != 'None', 'BsmtExposure'].fillna(\n",
    "        test['BsmtExposure'].mode()[0])\n",
    "\n",
    "test.loc[test['BsmtQual'] != 'None', 'BsmtFinType1'] = \\\n",
    "    test.loc[test['BsmtQual'] != 'None', 'BsmtFinType1'].fillna(\n",
    "        test['BsmtFinType1'].mode()[0])\n",
    "\n",
    "test.loc[test['BsmtQual'] != 'None', 'BsmtFinType2'] = \\\n",
    "    test.loc[test['BsmtQual'] != 'None', 'BsmtFinType2'].fillna(\n",
    "        test['BsmtFinType2'].mode()[0])\n",
    "\n",
    "test.loc[test['BsmtQual'] != 'None', 'BsmtUnfSF'] = \\\n",
    "    test.loc[test['BsmtQual'] != 'None', 'BsmtUnfSF'].fillna(0)\n",
    "\n",
    "test.drop(['TotalBsmtSF'], axis=1)\n",
    "test['TotalBsmtSF'] = test['BsmtFinSF1'] + test['BsmtFinSF2'] + test['BsmtUnfSF']\n",
    "test['Electrical'].fillna(test['Electrical'].mode()[0], inplace=True)\n",
    "test['BsmtFullBath'].fillna(math.ceil(test['BsmtFullBath'].mean()), inplace=True)\n",
    "test['BsmtHalfBath'].fillna(math.ceil(test['BsmtHalfBath'].mean()), inplace=True)\n",
    "test['KitchenQual'].fillna(test['KitchenQual'].mode()[0], inplace=True)\n",
    "test['Functional'].fillna(test['Functional'].mode()[0], inplace=True)\n",
    "test['GarageType'].fillna('None', inplace=True)\n",
    "\n",
    "# When GarageType == 'None'\n",
    "test.loc[test['GarageType'] == 'None', ['GarageYrBlt', 'GarageCars', 'GarageArea']] = \\\n",
    "    test.loc[test['GarageType'] == 'None', ['GarageYrBlt', 'GarageCars', 'GarageArea']].fillna(0)\n",
    "\n",
    "test.loc[test['GarageType'] == 'None', ['GarageFinish', 'GarageQual', 'GarageCond']] = \\\n",
    "    test.loc[test['GarageType'] == 'None', ['GarageFinish', 'GarageQual', 'GarageCond']].fillna('None')\n",
    "\n",
    "# When GarageType != 'None'\n",
    "test.loc[test['GarageType'] != 'None', 'GarageYrBlt'] = \\\n",
    "    test.loc[test['GarageType'] != 'None', 'GarageYrBlt'].fillna(\n",
    "        math.ceil(test['GarageYrBlt'].mean()))\n",
    "\n",
    "test.loc[test['GarageType'] != 'None', 'GarageArea'] = \\\n",
    "    test.loc[test['GarageType'] != 'None', 'GarageArea'].fillna(\n",
    "        math.ceil(test['GarageArea'].mean()))\n",
    "\n",
    "test.loc[test['GarageType'] != 'None', 'GarageCars'] = \\\n",
    "    test.loc[test['GarageType'] != 'None', 'GarageCars'].fillna(\n",
    "        math.ceil(test['GarageCars'].mean()))\n",
    "\n",
    "test.loc[test['GarageType'] != 'None', ['GarageFinish', 'GarageQual', 'GarageCond']] = \\\n",
    "    test.loc[test['GarageType'] != 'None', ['GarageFinish', 'GarageQual', 'GarageCond']].fillna(\n",
    "        {'GarageFinish': 'None', 'GarageQual': 'None', 'GarageCond': 'None'})\n",
    "test['PoolQC'].fillna('None', inplace=True)\n",
    "test['Fence'].fillna('None', inplace=True)\n",
    "test['MiscFeature'].fillna('None', inplace=True)\n",
    "test['SaleType'].fillna(test['SaleType'].mode()[0], inplace=True)\n",
    "test['FireplaceQu'].fillna('None', inplace=True)"
   ]
  },
  {
   "cell_type": "code",
   "execution_count": 24,
   "id": "99e5532f",
   "metadata": {
    "execution": {
     "iopub.execute_input": "2025-08-11T16:39:46.845903Z",
     "iopub.status.busy": "2025-08-11T16:39:46.845592Z",
     "iopub.status.idle": "2025-08-11T16:39:46.856313Z",
     "shell.execute_reply": "2025-08-11T16:39:46.855493Z"
    },
    "papermill": {
     "duration": 0.023292,
     "end_time": "2025-08-11T16:39:46.857735",
     "exception": false,
     "start_time": "2025-08-11T16:39:46.834443",
     "status": "completed"
    },
    "tags": []
   },
   "outputs": [
    {
     "data": {
      "text/plain": [
       "[0,\n",
       " 0,\n",
       " 0,\n",
       " 0,\n",
       " 0,\n",
       " 0,\n",
       " 0,\n",
       " 0,\n",
       " 0,\n",
       " 0,\n",
       " 0,\n",
       " 0,\n",
       " 0,\n",
       " 0,\n",
       " 0,\n",
       " 0,\n",
       " 0,\n",
       " 0,\n",
       " 0,\n",
       " 0,\n",
       " 0,\n",
       " 0,\n",
       " 0,\n",
       " 0,\n",
       " 0,\n",
       " 0,\n",
       " 0,\n",
       " 0,\n",
       " 0,\n",
       " 0,\n",
       " 0,\n",
       " 0,\n",
       " 0,\n",
       " 0,\n",
       " 0,\n",
       " 0,\n",
       " 0,\n",
       " 0,\n",
       " 0,\n",
       " 0,\n",
       " 0,\n",
       " 0,\n",
       " 0,\n",
       " 0,\n",
       " 0,\n",
       " 0,\n",
       " 0,\n",
       " 0,\n",
       " 0,\n",
       " 0,\n",
       " 0,\n",
       " 0,\n",
       " 0,\n",
       " 0,\n",
       " 0,\n",
       " 0,\n",
       " 0,\n",
       " 0,\n",
       " 0,\n",
       " 0,\n",
       " 0,\n",
       " 0,\n",
       " 0,\n",
       " 0,\n",
       " 0,\n",
       " 0,\n",
       " 0,\n",
       " 0,\n",
       " 0,\n",
       " 0,\n",
       " 0,\n",
       " 0,\n",
       " 0,\n",
       " 0,\n",
       " 0,\n",
       " 0,\n",
       " 0,\n",
       " 0,\n",
       " 0]"
      ]
     },
     "execution_count": 24,
     "metadata": {},
     "output_type": "execute_result"
    }
   ],
   "source": [
    "test.isnull().sum().tolist()"
   ]
  },
  {
   "cell_type": "code",
   "execution_count": 25,
   "id": "a47011f5",
   "metadata": {
    "execution": {
     "iopub.execute_input": "2025-08-11T16:39:46.879703Z",
     "iopub.status.busy": "2025-08-11T16:39:46.879364Z",
     "iopub.status.idle": "2025-08-11T16:39:46.910692Z",
     "shell.execute_reply": "2025-08-11T16:39:46.909656Z"
    },
    "papermill": {
     "duration": 0.044248,
     "end_time": "2025-08-11T16:39:46.912460",
     "exception": false,
     "start_time": "2025-08-11T16:39:46.868212",
     "status": "completed"
    },
    "tags": []
   },
   "outputs": [],
   "source": [
    "features= pd.concat([train, test], axis=0)\n",
    "objects = features.select_dtypes(include='object').columns\n",
    "features[objects]=features[objects].fillna('None')"
   ]
  },
  {
   "cell_type": "code",
   "execution_count": 26,
   "id": "1af08014",
   "metadata": {
    "execution": {
     "iopub.execute_input": "2025-08-11T16:39:46.934446Z",
     "iopub.status.busy": "2025-08-11T16:39:46.934125Z",
     "iopub.status.idle": "2025-08-11T16:39:46.946661Z",
     "shell.execute_reply": "2025-08-11T16:39:46.945643Z"
    },
    "papermill": {
     "duration": 0.025486,
     "end_time": "2025-08-11T16:39:46.948250",
     "exception": false,
     "start_time": "2025-08-11T16:39:46.922764",
     "status": "completed"
    },
    "tags": []
   },
   "outputs": [],
   "source": [
    "numerical = features.select_dtypes(include=('int16', 'int32', 'int64', 'float16', 'float32', 'float64')).columns\n",
    "features[numerical]=features[numerical].fillna(0)"
   ]
  },
  {
   "cell_type": "code",
   "execution_count": 27,
   "id": "949d83eb",
   "metadata": {
    "execution": {
     "iopub.execute_input": "2025-08-11T16:39:46.969884Z",
     "iopub.status.busy": "2025-08-11T16:39:46.969576Z",
     "iopub.status.idle": "2025-08-11T16:39:47.151441Z",
     "shell.execute_reply": "2025-08-11T16:39:47.150481Z"
    },
    "papermill": {
     "duration": 0.194608,
     "end_time": "2025-08-11T16:39:47.153103",
     "exception": false,
     "start_time": "2025-08-11T16:39:46.958495",
     "status": "completed"
    },
    "tags": []
   },
   "outputs": [],
   "source": [
    "skew_features = features[numerical].apply(lambda x: skew(x)).sort_values(ascending=False)\n",
    "\n",
    "high_skew = skew_features[skew_features > 0.5]\n",
    "skew_index = high_skew.index\n",
    "\n",
    "for i in skew_index:\n",
    "    features[i] = features[i].apply(lambda x: boxcox1p(x, 0.15))"
   ]
  },
  {
   "cell_type": "code",
   "execution_count": 28,
   "id": "02e66ca0",
   "metadata": {
    "execution": {
     "iopub.execute_input": "2025-08-11T16:39:47.174902Z",
     "iopub.status.busy": "2025-08-11T16:39:47.174587Z",
     "iopub.status.idle": "2025-08-11T16:39:47.180163Z",
     "shell.execute_reply": "2025-08-11T16:39:47.179257Z"
    },
    "papermill": {
     "duration": 0.018092,
     "end_time": "2025-08-11T16:39:47.181621",
     "exception": false,
     "start_time": "2025-08-11T16:39:47.163529",
     "status": "completed"
    },
    "tags": []
   },
   "outputs": [
    {
     "data": {
      "text/plain": [
       "(2919, 79)"
      ]
     },
     "execution_count": 28,
     "metadata": {},
     "output_type": "execute_result"
    }
   ],
   "source": [
    "features.shape"
   ]
  },
  {
   "cell_type": "code",
   "execution_count": 29,
   "id": "68148520",
   "metadata": {
    "execution": {
     "iopub.execute_input": "2025-08-11T16:39:47.204483Z",
     "iopub.status.busy": "2025-08-11T16:39:47.204164Z",
     "iopub.status.idle": "2025-08-11T16:39:47.259543Z",
     "shell.execute_reply": "2025-08-11T16:39:47.258827Z"
    },
    "papermill": {
     "duration": 0.068103,
     "end_time": "2025-08-11T16:39:47.260985",
     "exception": false,
     "start_time": "2025-08-11T16:39:47.192882",
     "status": "completed"
    },
    "tags": []
   },
   "outputs": [
    {
     "data": {
      "text/plain": [
       "(2919, 572)"
      ]
     },
     "execution_count": 29,
     "metadata": {},
     "output_type": "execute_result"
    }
   ],
   "source": [
    "final_features = pd.get_dummies(features, columns=objects, dummy_na=False).reset_index(drop=True)\n",
    "final_features.shape"
   ]
  },
  {
   "cell_type": "code",
   "execution_count": 30,
   "id": "86c140a6",
   "metadata": {
    "execution": {
     "iopub.execute_input": "2025-08-11T16:39:47.283319Z",
     "iopub.status.busy": "2025-08-11T16:39:47.282511Z",
     "iopub.status.idle": "2025-08-11T16:39:47.289580Z",
     "shell.execute_reply": "2025-08-11T16:39:47.288754Z"
    },
    "papermill": {
     "duration": 0.019739,
     "end_time": "2025-08-11T16:39:47.291068",
     "exception": false,
     "start_time": "2025-08-11T16:39:47.271329",
     "status": "completed"
    },
    "tags": []
   },
   "outputs": [
    {
     "data": {
      "text/plain": [
       "((1460, 572), (1460,), (1459, 572))"
      ]
     },
     "execution_count": 30,
     "metadata": {},
     "output_type": "execute_result"
    }
   ],
   "source": [
    "X = final_features.iloc[:len(y), :]\n",
    "X_sub = final_features.iloc[len(y):, :]\n",
    "X.shape, y.shape, X_sub.shape"
   ]
  },
  {
   "cell_type": "code",
   "execution_count": 31,
   "id": "6417e9b6",
   "metadata": {
    "execution": {
     "iopub.execute_input": "2025-08-11T16:39:47.313905Z",
     "iopub.status.busy": "2025-08-11T16:39:47.313598Z",
     "iopub.status.idle": "2025-08-11T16:39:47.458861Z",
     "shell.execute_reply": "2025-08-11T16:39:47.457914Z"
    },
    "papermill": {
     "duration": 0.158921,
     "end_time": "2025-08-11T16:39:47.460863",
     "exception": false,
     "start_time": "2025-08-11T16:39:47.301942",
     "status": "completed"
    },
    "tags": []
   },
   "outputs": [],
   "source": [
    "outliers = [30, 88, 462, 631, 1322]\n",
    "X = X.drop(X.index[outliers])\n",
    "y = y.drop(y.index[outliers])\n",
    "\n",
    "overfit = []\n",
    "for i in X.columns:\n",
    "    counts = X[i].value_counts()\n",
    "    zeros = counts.iloc[0]\n",
    "    if zeros / len(X) * 100 > 99.94:\n",
    "        overfit.append(i)\n",
    "\n",
    "overfit = list(overfit)\n",
    "X = X.drop(overfit, axis=1)\n",
    "X_sub = X_sub.drop(overfit, axis=1)"
   ]
  },
  {
   "cell_type": "code",
   "execution_count": 32,
   "id": "5f98930c",
   "metadata": {
    "execution": {
     "iopub.execute_input": "2025-08-11T16:39:47.483665Z",
     "iopub.status.busy": "2025-08-11T16:39:47.483014Z",
     "iopub.status.idle": "2025-08-11T16:39:47.489099Z",
     "shell.execute_reply": "2025-08-11T16:39:47.488217Z"
    },
    "papermill": {
     "duration": 0.01895,
     "end_time": "2025-08-11T16:39:47.490559",
     "exception": false,
     "start_time": "2025-08-11T16:39:47.471609",
     "status": "completed"
    },
    "tags": []
   },
   "outputs": [
    {
     "data": {
      "text/plain": [
       "((1455, 441), (1455,), (1459, 441))"
      ]
     },
     "execution_count": 32,
     "metadata": {},
     "output_type": "execute_result"
    }
   ],
   "source": [
    "X.shape, y.shape, X_sub.shape"
   ]
  },
  {
   "cell_type": "code",
   "execution_count": 33,
   "id": "9c5ca1a6",
   "metadata": {
    "execution": {
     "iopub.execute_input": "2025-08-11T16:39:47.513230Z",
     "iopub.status.busy": "2025-08-11T16:39:47.512526Z",
     "iopub.status.idle": "2025-08-11T16:39:47.517951Z",
     "shell.execute_reply": "2025-08-11T16:39:47.517094Z"
    },
    "papermill": {
     "duration": 0.018326,
     "end_time": "2025-08-11T16:39:47.519528",
     "exception": false,
     "start_time": "2025-08-11T16:39:47.501202",
     "status": "completed"
    },
    "tags": []
   },
   "outputs": [],
   "source": [
    "alphas1=[0.001, 0.01, 0.1, 1, 10, 100, 1000]\n",
    "l1ratio1=[0.2, 0.5, 0.7, 0.8]\n",
    "\n",
    "def rmsle(y, y_pred):\n",
    "    return np.sqrt(mean_squared_error(y, y_pred))\n",
    "\n",
    "def cv_rmse(model, X=X):\n",
    "    rmse = np.sqrt(-cross_val_score(model, X, y, scoring=\"neg_mean_squared_error\", cv=kfolds))\n",
    "    return (rmse)"
   ]
  },
  {
   "cell_type": "code",
   "execution_count": 34,
   "id": "c17d2ded",
   "metadata": {
    "execution": {
     "iopub.execute_input": "2025-08-11T16:39:47.541870Z",
     "iopub.status.busy": "2025-08-11T16:39:47.541560Z",
     "iopub.status.idle": "2025-08-11T16:39:47.548843Z",
     "shell.execute_reply": "2025-08-11T16:39:47.547967Z"
    },
    "papermill": {
     "duration": 0.020153,
     "end_time": "2025-08-11T16:39:47.550245",
     "exception": false,
     "start_time": "2025-08-11T16:39:47.530092",
     "status": "completed"
    },
    "tags": []
   },
   "outputs": [],
   "source": [
    "kfolds = KFold(n_splits=10, shuffle=True, random_state=42)\n",
    "ridge = make_pipeline(StandardScaler(), RidgeCV(alphas=alphas1, cv=kfolds))\n",
    "lasso = make_pipeline(StandardScaler(), LassoCV(alphas=alphas1, random_state=42, cv=kfolds))\n",
    "elasticnet = make_pipeline(StandardScaler(), ElasticNetCV(alphas=alphas1, cv=kfolds, l1_ratio=l1ratio1)) \n",
    "gbr = GradientBoostingRegressor(n_estimators=3000, learning_rate=0.05, max_depth=4, max_features='sqrt', min_samples_leaf=15, min_samples_split=10, loss='huber', random_state =42)     \n",
    "xgboost = XGBRegressor(learning_rate=0.01,n_estimators=3460,\n",
    "                                     max_depth=3, min_child_weight=0,\n",
    "                                     gamma=0, subsample=0.7,\n",
    "                                     colsample_bytree=0.7,\n",
    "                                     objective='reg:linear', nthread=-1,\n",
    "                                     scale_pos_weight=1, seed=27,\n",
    "                                     reg_alpha=0.00006)\n",
    "stack_gen = StackingCVRegressor(regressors=(ridge, lasso, elasticnet, gbr, xgboost),\n",
    "                                meta_regressor=xgboost,\n",
    "                                use_features_in_secondary=True)\n"
   ]
  },
  {
   "cell_type": "code",
   "execution_count": 35,
   "id": "a8d3489f",
   "metadata": {
    "execution": {
     "iopub.execute_input": "2025-08-11T16:39:47.573781Z",
     "iopub.status.busy": "2025-08-11T16:39:47.572813Z",
     "iopub.status.idle": "2025-08-11T16:44:03.039220Z",
     "shell.execute_reply": "2025-08-11T16:44:03.038216Z"
    },
    "papermill": {
     "duration": 255.489793,
     "end_time": "2025-08-11T16:44:03.051110",
     "exception": false,
     "start_time": "2025-08-11T16:39:47.561317",
     "status": "completed"
    },
    "tags": []
   },
   "outputs": [
    {
     "name": "stdout",
     "output_type": "stream",
     "text": [
      "Ridge: 0.1286 (0.0320)\n",
      " 2025-08-11 16:40:17.259725\n",
      "LASSO: 0.1250 (0.0342)\n",
      " 2025-08-11 16:40:21.046359\n",
      "elastic net: 0.1203 (0.0347)\n",
      " 2025-08-11 16:40:41.440559\n",
      "gbr: 0.1213 (0.0327)\n",
      " 2025-08-11 16:42:44.639886\n",
      "xgboost: 0.1208 (0.0323)\n",
      " 2025-08-11 16:44:03.035934\n"
     ]
    }
   ],
   "source": [
    "score = cv_rmse(ridge)\n",
    "print('Ridge: {:.4f} ({:.4f})\\n'.format(score.mean(), score.std()), datetime.now())\n",
    "\n",
    "score = cv_rmse(lasso)\n",
    "print(\"LASSO: {:.4f} ({:.4f})\\n\".format(score.mean(), score.std()), datetime.now())\n",
    "\n",
    "score = cv_rmse(elasticnet)\n",
    "print(\"elastic net: {:.4f} ({:.4f})\\n\".format(score.mean(), score.std()), datetime.now())\n",
    "\n",
    "score = cv_rmse(gbr)\n",
    "print(\"gbr: {:.4f} ({:.4f})\\n\".format(score.mean(), score.std()), datetime.now())\n",
    "\n",
    "score = cv_rmse(xgboost)\n",
    "print(\"xgboost: {:.4f} ({:.4f})\\n\".format(score.mean(), score.std()), datetime.now())"
   ]
  },
  {
   "cell_type": "code",
   "execution_count": 36,
   "id": "d61a14f1",
   "metadata": {
    "execution": {
     "iopub.execute_input": "2025-08-11T16:44:03.074511Z",
     "iopub.status.busy": "2025-08-11T16:44:03.074019Z",
     "iopub.status.idle": "2025-08-11T16:46:46.018250Z",
     "shell.execute_reply": "2025-08-11T16:46:46.017401Z"
    },
    "papermill": {
     "duration": 162.958101,
     "end_time": "2025-08-11T16:46:46.020059",
     "exception": false,
     "start_time": "2025-08-11T16:44:03.061958",
     "status": "completed"
    },
    "tags": []
   },
   "outputs": [
    {
     "name": "stdout",
     "output_type": "stream",
     "text": [
      "Starting to fit the Data\n",
      "2025-08-11 16:44:03.077206 StackingCVRegressor\n",
      "2025-08-11 16:46:20.814875 elasticnet\n",
      "2025-08-11 16:46:22.750047 lasso\n",
      "2025-08-11 16:46:23.136111 ridge\n",
      "2025-08-11 16:46:25.941191 GradientBoosting\n",
      "2025-08-11 16:46:38.589001 xgboost\n"
     ]
    }
   ],
   "source": [
    "print('Starting to fit the Data')\n",
    "print(datetime.now(), 'StackingCVRegressor')\n",
    "stack_gen_model = stack_gen.fit(np.array(X), np.array(y))\n",
    "print(datetime.now(), 'elasticnet')\n",
    "elastic_model_full_data = elasticnet.fit(X, y)\n",
    "print(datetime.now(), 'lasso')\n",
    "lasso_model_full_data = lasso.fit(X, y)\n",
    "print(datetime.now(), 'ridge')\n",
    "ridge_model_full_data = ridge.fit(X, y)\n",
    "print(datetime.now(), 'GradientBoosting')\n",
    "gbr_model_full_data = gbr.fit(X, y)\n",
    "print(datetime.now(), 'xgboost')\n",
    "xgb_model_full_data = xgboost.fit(X, y)"
   ]
  },
  {
   "cell_type": "code",
   "execution_count": 37,
   "id": "b0d1b02a",
   "metadata": {
    "execution": {
     "iopub.execute_input": "2025-08-11T16:46:46.043577Z",
     "iopub.status.busy": "2025-08-11T16:46:46.043234Z",
     "iopub.status.idle": "2025-08-11T16:46:46.657439Z",
     "shell.execute_reply": "2025-08-11T16:46:46.656802Z"
    },
    "papermill": {
     "duration": 0.627797,
     "end_time": "2025-08-11T16:46:46.659025",
     "exception": false,
     "start_time": "2025-08-11T16:46:46.031228",
     "status": "completed"
    },
    "tags": []
   },
   "outputs": [
    {
     "name": "stdout",
     "output_type": "stream",
     "text": [
      "RMSLE score on train data:\n",
      "0.05293433531450441\n"
     ]
    }
   ],
   "source": [
    "def blend_models_predict(X):\n",
    "    return ((0.1 * elastic_model_full_data.predict(X)) + \\\n",
    "            (0.1 * lasso_model_full_data.predict(X)) + \\\n",
    "            (0.1 * ridge_model_full_data.predict(X)) + \\\n",
    "            (0.1 * gbr_model_full_data.predict(X)) + \\\n",
    "            (0.25 * xgb_model_full_data.predict(X)) + \\\n",
    "            (0.35 * stack_gen_model.predict(np.array(X))))\n",
    "            \n",
    "print('RMSLE score on train data:')\n",
    "print(rmsle(y, blend_models_predict(X)))"
   ]
  },
  {
   "cell_type": "code",
   "execution_count": 38,
   "id": "87852169",
   "metadata": {
    "execution": {
     "iopub.execute_input": "2025-08-11T16:46:46.682963Z",
     "iopub.status.busy": "2025-08-11T16:46:46.682622Z",
     "iopub.status.idle": "2025-08-11T16:46:47.308426Z",
     "shell.execute_reply": "2025-08-11T16:46:47.307594Z"
    },
    "papermill": {
     "duration": 0.639423,
     "end_time": "2025-08-11T16:46:47.309994",
     "exception": false,
     "start_time": "2025-08-11T16:46:46.670571",
     "status": "completed"
    },
    "tags": []
   },
   "outputs": [
    {
     "name": "stdout",
     "output_type": "stream",
     "text": [
      "Predict submission 2025-08-11 16:46:46.685315\n"
     ]
    }
   ],
   "source": [
    "print('Predict submission', datetime.now(),)\n",
    "submission = pd.read_csv(\"../input/house-prices-advanced-regression-techniques/sample_submission.csv\")\n",
    "submission.iloc[:,1] = np.floor(np.expm1(blend_models_predict(X_sub)))\n",
    "\n",
    "# this kernel gave a score ...\n",
    "\n",
    "q1 = submission['SalePrice'].quantile(0.05)\n",
    "q2 = submission['SalePrice'].quantile(0.99)\n",
    "\n",
    "submission['SalePrice'] = submission['SalePrice'].apply(lambda x: x if x > q1 else x*0.77)\n",
    "submission['SalePrice'] = submission['SalePrice'].apply(lambda x: x if x < q2 else x*1.1)"
   ]
  },
  {
   "cell_type": "code",
   "execution_count": 39,
   "id": "328aa45c",
   "metadata": {
    "execution": {
     "iopub.execute_input": "2025-08-11T16:46:47.333957Z",
     "iopub.status.busy": "2025-08-11T16:46:47.333644Z",
     "iopub.status.idle": "2025-08-11T16:46:47.342494Z",
     "shell.execute_reply": "2025-08-11T16:46:47.341567Z"
    },
    "papermill": {
     "duration": 0.022516,
     "end_time": "2025-08-11T16:46:47.343832",
     "exception": false,
     "start_time": "2025-08-11T16:46:47.321316",
     "status": "completed"
    },
    "tags": []
   },
   "outputs": [
    {
     "data": {
      "text/html": [
       "<div>\n",
       "<style scoped>\n",
       "    .dataframe tbody tr th:only-of-type {\n",
       "        vertical-align: middle;\n",
       "    }\n",
       "\n",
       "    .dataframe tbody tr th {\n",
       "        vertical-align: top;\n",
       "    }\n",
       "\n",
       "    .dataframe thead th {\n",
       "        text-align: right;\n",
       "    }\n",
       "</style>\n",
       "<table border=\"1\" class=\"dataframe\">\n",
       "  <thead>\n",
       "    <tr style=\"text-align: right;\">\n",
       "      <th></th>\n",
       "      <th>Id</th>\n",
       "      <th>SalePrice</th>\n",
       "    </tr>\n",
       "  </thead>\n",
       "  <tbody>\n",
       "    <tr>\n",
       "      <th>0</th>\n",
       "      <td>1461</td>\n",
       "      <td>124189.0</td>\n",
       "    </tr>\n",
       "    <tr>\n",
       "      <th>1</th>\n",
       "      <td>1462</td>\n",
       "      <td>161018.0</td>\n",
       "    </tr>\n",
       "    <tr>\n",
       "      <th>2</th>\n",
       "      <td>1463</td>\n",
       "      <td>190388.0</td>\n",
       "    </tr>\n",
       "    <tr>\n",
       "      <th>3</th>\n",
       "      <td>1464</td>\n",
       "      <td>197323.0</td>\n",
       "    </tr>\n",
       "    <tr>\n",
       "      <th>4</th>\n",
       "      <td>1465</td>\n",
       "      <td>188468.0</td>\n",
       "    </tr>\n",
       "  </tbody>\n",
       "</table>\n",
       "</div>"
      ],
      "text/plain": [
       "     Id  SalePrice\n",
       "0  1461   124189.0\n",
       "1  1462   161018.0\n",
       "2  1463   190388.0\n",
       "3  1464   197323.0\n",
       "4  1465   188468.0"
      ]
     },
     "execution_count": 39,
     "metadata": {},
     "output_type": "execute_result"
    }
   ],
   "source": [
    "submission.head()"
   ]
  },
  {
   "cell_type": "code",
   "execution_count": 40,
   "id": "740bf775",
   "metadata": {
    "execution": {
     "iopub.execute_input": "2025-08-11T16:46:47.368030Z",
     "iopub.status.busy": "2025-08-11T16:46:47.367665Z",
     "iopub.status.idle": "2025-08-11T16:46:47.381082Z",
     "shell.execute_reply": "2025-08-11T16:46:47.379989Z"
    },
    "papermill": {
     "duration": 0.027154,
     "end_time": "2025-08-11T16:46:47.382483",
     "exception": false,
     "start_time": "2025-08-11T16:46:47.355329",
     "status": "completed"
    },
    "tags": []
   },
   "outputs": [
    {
     "name": "stdout",
     "output_type": "stream",
     "text": [
      "Save submission 2025-08-11 16:46:47.378001\n"
     ]
    }
   ],
   "source": [
    "submission.to_csv(\"new_submission.csv\", index=False)\n",
    "print('Save submission', datetime.now())"
   ]
  },
  {
   "cell_type": "code",
   "execution_count": null,
   "id": "74f07e56",
   "metadata": {
    "papermill": {
     "duration": 0.011796,
     "end_time": "2025-08-11T16:46:47.405842",
     "exception": false,
     "start_time": "2025-08-11T16:46:47.394046",
     "status": "completed"
    },
    "tags": []
   },
   "outputs": [],
   "source": []
  }
 ],
 "metadata": {
  "kaggle": {
   "accelerator": "none",
   "dataSources": [
    {
     "databundleVersionId": 868283,
     "sourceId": 5407,
     "sourceType": "competition"
    }
   ],
   "dockerImageVersionId": 31089,
   "isGpuEnabled": false,
   "isInternetEnabled": false,
   "language": "python",
   "sourceType": "notebook"
  },
  "kernelspec": {
   "display_name": "Python 3",
   "language": "python",
   "name": "python3"
  },
  "language_info": {
   "codemirror_mode": {
    "name": "ipython",
    "version": 3
   },
   "file_extension": ".py",
   "mimetype": "text/x-python",
   "name": "python",
   "nbconvert_exporter": "python",
   "pygments_lexer": "ipython3",
   "version": "3.11.13"
  },
  "papermill": {
   "default_parameters": {},
   "duration": 433.348099,
   "end_time": "2025-08-11T16:46:48.238986",
   "environment_variables": {},
   "exception": null,
   "input_path": "__notebook__.ipynb",
   "output_path": "__notebook__.ipynb",
   "parameters": {},
   "start_time": "2025-08-11T16:39:34.890887",
   "version": "2.6.0"
  }
 },
 "nbformat": 4,
 "nbformat_minor": 5
}
